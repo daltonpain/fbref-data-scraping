{
 "cells": [
  {
   "cell_type": "markdown",
   "id": "ec4061d2",
   "metadata": {},
   "source": [
    "## Imports"
   ]
  },
  {
   "cell_type": "code",
   "execution_count": 1,
   "id": "a7a176e7",
   "metadata": {},
   "outputs": [],
   "source": [
    "import warnings\n",
    "import pandas as pd\n",
    "import factor\n",
    "\n",
    "warnings.filterwarnings(\n",
    "    \"ignore\", message=\"Passing literal html to 'read_html' is deprecated\"\n",
    ")\n",
    "pd.options.mode.chained_assignment = None  # default='warn'"
   ]
  },
  {
   "cell_type": "markdown",
   "id": "f46cf4ee",
   "metadata": {},
   "source": [
    "## Provide Links to Scrape"
   ]
  },
  {
   "cell_type": "code",
   "execution_count": 2,
   "id": "30867878",
   "metadata": {},
   "outputs": [],
   "source": [
    "urls = [\n",
    "    [\n",
    "        f\"https://fbref.com/en/comps/230/2022-2023/{category}/2022-2023-Liga-F-Stats\"\n",
    "        for category in factor.CATEGORIES\n",
    "    ],\n",
    "    [\n",
    "        f\"https://fbref.com/en/comps/182/2022/{category}/2022-NWSL-Stats\"\n",
    "        for category in factor.CATEGORIES\n",
    "    ],\n",
    "    [\n",
    "        f\"https://fbref.com/en/comps/189/2022-2023/{category}/2022-2023-Womens-Super-League-Stats\"\n",
    "        for category in factor.CATEGORIES\n",
    "    ],\n",
    "    [\n",
    "        f\"https://fbref.com/en/comps/189/2021-2022/{category}/2021-2022-Womens-Super-League-Stats\"\n",
    "        for category in factor.CATEGORIES\n",
    "    ],\n",
    "]"
   ]
  },
  {
   "cell_type": "code",
   "execution_count": 3,
   "id": "cc3add35",
   "metadata": {},
   "outputs": [],
   "source": [
    "url_dict = {}\n",
    "for season, url_list in zip(\n",
    "    [\"2022-2023 Liga\", \"2022 NWSL\", \"2022-2023 WSL\", \"2021-2022 WSL\"], urls\n",
    "):\n",
    "    url_dict[season] = url_list"
   ]
  },
  {
   "cell_type": "markdown",
   "id": "5dbd57ea",
   "metadata": {},
   "source": [
    "## Perform Scraping and Tidying"
   ]
  },
  {
   "cell_type": "code",
   "execution_count": 4,
   "id": "18efd6c5",
   "metadata": {},
   "outputs": [
    {
     "name": "stdout",
     "output_type": "stream",
     "text": [
      "===============================================================\n",
      "Scraping data for 2022-2023 Liga - shooting\n",
      "Scraping data for 2022-2023 Liga - passing\n",
      "Scraping data for 2022-2023 Liga - pass_types\n",
      "Scraping data for 2022-2023 Liga - goal_and_shot_creation\n",
      "Scraping data for 2022-2023 Liga - defensive_actions\n",
      "Scraping data for 2022-2023 Liga - possession\n",
      "Scraping data for 2022-2023 Liga - miscellaneous\n",
      "===============================================================\n",
      "Scraping data for 2022 NWSL - shooting\n",
      "Scraping data for 2022 NWSL - passing\n",
      "Scraping data for 2022 NWSL - pass_types\n",
      "Scraping data for 2022 NWSL - goal_and_shot_creation\n",
      "Scraping data for 2022 NWSL - defensive_actions\n",
      "Scraping data for 2022 NWSL - possession\n",
      "Scraping data for 2022 NWSL - miscellaneous\n",
      "===============================================================\n",
      "Scraping data for 2022-2023 WSL - shooting\n",
      "Scraping data for 2022-2023 WSL - passing\n",
      "Scraping data for 2022-2023 WSL - pass_types\n",
      "Scraping data for 2022-2023 WSL - goal_and_shot_creation\n",
      "Scraping data for 2022-2023 WSL - defensive_actions\n",
      "Scraping data for 2022-2023 WSL - possession\n",
      "Scraping data for 2022-2023 WSL - miscellaneous\n",
      "===============================================================\n",
      "Scraping data for 2021-2022 WSL - shooting\n",
      "Scraping data for 2021-2022 WSL - passing\n",
      "Scraping data for 2021-2022 WSL - pass_types\n",
      "Scraping data for 2021-2022 WSL - goal_and_shot_creation\n",
      "Scraping data for 2021-2022 WSL - defensive_actions\n",
      "Scraping data for 2021-2022 WSL - possession\n",
      "Scraping data for 2021-2022 WSL - miscellaneous\n"
     ]
    }
   ],
   "source": [
    "dataframes = []\n",
    "data = []\n",
    "for season, urls in url_dict.items():\n",
    "    print(\"===============================================================\")\n",
    "    for url, col in zip(urls, factor.COLUMNS):\n",
    "        try:\n",
    "            print(f\"Scraping data for {season} - {col}\")\n",
    "            df = factor.scrape_and_process(url, factor.COLUMNS[col], season)\n",
    "            df = factor.tidy_columns(df, col)\n",
    "            dataframes.append(df)\n",
    "        except Exception as e:\n",
    "            print(f\"Error scraping data for {season} - {col}\")\n",
    "            print(e)\n",
    "    data.append(pd.concat(dataframes, axis=1))\n",
    "    dataframes = []"
   ]
  },
  {
   "cell_type": "markdown",
   "id": "f8cf4a32",
   "metadata": {},
   "source": [
    "## Join All Seasons Data"
   ]
  },
  {
   "cell_type": "code",
   "execution_count": 5,
   "id": "6269e55a",
   "metadata": {},
   "outputs": [],
   "source": [
    "df_merged = pd.concat(data)\n",
    "df_merged = df_merged.transpose().drop_duplicates().transpose().reset_index(drop=True)"
   ]
  },
  {
   "cell_type": "code",
   "execution_count": 6,
   "id": "0129209b",
   "metadata": {},
   "outputs": [],
   "source": [
    "# df_merged.info()"
   ]
  },
  {
   "cell_type": "code",
   "execution_count": 8,
   "id": "dd63c23e",
   "metadata": {},
   "outputs": [
    {
     "data": {
      "text/html": [
       "<div>\n",
       "<style scoped>\n",
       "    .dataframe tbody tr th:only-of-type {\n",
       "        vertical-align: middle;\n",
       "    }\n",
       "\n",
       "    .dataframe tbody tr th {\n",
       "        vertical-align: top;\n",
       "    }\n",
       "\n",
       "    .dataframe thead th {\n",
       "        text-align: right;\n",
       "    }\n",
       "</style>\n",
       "<table border=\"1\" class=\"dataframe\">\n",
       "  <thead>\n",
       "    <tr style=\"text-align: right;\">\n",
       "      <th></th>\n",
       "      <th>SQUAD</th>\n",
       "      <th>SHOOT_SH</th>\n",
       "      <th>SHOOT_DIST</th>\n",
       "      <th>SEASON</th>\n",
       "      <th>PASS_TOTDIST</th>\n",
       "      <th>PASS_PRGDIST</th>\n",
       "      <th>PASS_ATT</th>\n",
       "      <th>PASS_ATT1</th>\n",
       "      <th>PASS_ATT2</th>\n",
       "      <th>PASS_ATT3</th>\n",
       "      <th>...</th>\n",
       "      <th>DA_TKL</th>\n",
       "      <th>DA_TKL1</th>\n",
       "      <th>DA_ATT</th>\n",
       "      <th>DA_BLOCKS</th>\n",
       "      <th>DA_INT</th>\n",
       "      <th>POSS_POSS</th>\n",
       "      <th>MISC_CRDY</th>\n",
       "      <th>MISC_CRDR</th>\n",
       "      <th>MISC_FLS</th>\n",
       "      <th>MISC_RECOV</th>\n",
       "    </tr>\n",
       "  </thead>\n",
       "  <tbody>\n",
       "    <tr>\n",
       "      <th>0</th>\n",
       "      <td>Alavés</td>\n",
       "      <td>286</td>\n",
       "      <td>18.4</td>\n",
       "      <td>2022-2023 Liga</td>\n",
       "      <td>141213</td>\n",
       "      <td>66482</td>\n",
       "      <td>10702</td>\n",
       "      <td>3176</td>\n",
       "      <td>4315</td>\n",
       "      <td>2619</td>\n",
       "      <td>...</td>\n",
       "      <td>491</td>\n",
       "      <td>198</td>\n",
       "      <td>381</td>\n",
       "      <td>322</td>\n",
       "      <td>330</td>\n",
       "      <td>44.6</td>\n",
       "      <td>59</td>\n",
       "      <td>1</td>\n",
       "      <td>311</td>\n",
       "      <td>1575</td>\n",
       "    </tr>\n",
       "    <tr>\n",
       "      <th>1</th>\n",
       "      <td>Alhama</td>\n",
       "      <td>304</td>\n",
       "      <td>20.8</td>\n",
       "      <td>2022-2023 Liga</td>\n",
       "      <td>99966</td>\n",
       "      <td>56452</td>\n",
       "      <td>9076</td>\n",
       "      <td>2552</td>\n",
       "      <td>3199</td>\n",
       "      <td>2796</td>\n",
       "      <td>...</td>\n",
       "      <td>746</td>\n",
       "      <td>313</td>\n",
       "      <td>630</td>\n",
       "      <td>420</td>\n",
       "      <td>461</td>\n",
       "      <td>39.6</td>\n",
       "      <td>61</td>\n",
       "      <td>4</td>\n",
       "      <td>383</td>\n",
       "      <td>1782</td>\n",
       "    </tr>\n",
       "  </tbody>\n",
       "</table>\n",
       "<p>2 rows × 35 columns</p>\n",
       "</div>"
      ],
      "text/plain": [
       "    SQUAD SHOOT_SH SHOOT_DIST          SEASON PASS_TOTDIST PASS_PRGDIST  \\\n",
       "0  Alavés      286       18.4  2022-2023 Liga       141213        66482   \n",
       "1  Alhama      304       20.8  2022-2023 Liga        99966        56452   \n",
       "\n",
       "  PASS_ATT PASS_ATT1 PASS_ATT2 PASS_ATT3  ... DA_TKL DA_TKL1 DA_ATT DA_BLOCKS  \\\n",
       "0    10702      3176      4315      2619  ...    491     198    381       322   \n",
       "1     9076      2552      3199      2796  ...    746     313    630       420   \n",
       "\n",
       "  DA_INT POSS_POSS MISC_CRDY MISC_CRDR MISC_FLS MISC_RECOV  \n",
       "0    330      44.6        59         1      311       1575  \n",
       "1    461      39.6        61         4      383       1782  \n",
       "\n",
       "[2 rows x 35 columns]"
      ]
     },
     "metadata": {},
     "output_type": "display_data"
    }
   ],
   "source": [
    "display(df_merged.head(2))"
   ]
  },
  {
   "cell_type": "code",
   "execution_count": 9,
   "id": "1798662d",
   "metadata": {},
   "outputs": [
    {
     "data": {
      "text/plain": [
       "52"
      ]
     },
     "execution_count": 9,
     "metadata": {},
     "output_type": "execute_result"
    }
   ],
   "source": [
    "len(df_merged)"
   ]
  },
  {
   "cell_type": "code",
   "execution_count": null,
   "id": "d8a9fae6",
   "metadata": {},
   "outputs": [],
   "source": [
    "df_merged.to_csv(\"data/pro_leagues.csv\")"
   ]
  }
 ],
 "metadata": {
  "kernelspec": {
   "display_name": "Python 3 (ipykernel)",
   "language": "python",
   "name": "python3"
  },
  "language_info": {
   "codemirror_mode": {
    "name": "ipython",
    "version": 3
   },
   "file_extension": ".py",
   "mimetype": "text/x-python",
   "name": "python",
   "nbconvert_exporter": "python",
   "pygments_lexer": "ipython3",
   "version": "3.12.0"
  }
 },
 "nbformat": 4,
 "nbformat_minor": 5
}
