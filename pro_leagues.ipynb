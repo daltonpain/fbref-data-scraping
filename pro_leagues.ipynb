{
 "cells": [
  {
   "cell_type": "code",
   "execution_count": null,
   "id": "a7a176e7",
   "metadata": {},
   "outputs": [],
   "source": [
    "import re\n",
    "import requests\n",
    "import warnings\n",
    "\n",
    "import pandas as pd\n",
    "from bs4 import BeautifulSoup\n",
    "\n",
    "warnings.filterwarnings(\n",
    "    \"ignore\", message=\"Passing literal html to 'read_html' is deprecated\"\n",
    ")\n",
    "pd.options.mode.chained_assignment = None  # default='warn'"
   ]
  },
  {
   "cell_type": "code",
   "execution_count": null,
   "id": "21c474d6",
   "metadata": {},
   "outputs": [],
   "source": [
    "RENAME_COLUMNS = {\n",
    "    \"shooting\": \"SHOOT\",\n",
    "    \"passing\": \"PASS\",\n",
    "    \"pass_types\": \"PT\",\n",
    "    \"goal_and_shot_creation\": \"GSC\",\n",
    "    \"defensive_actions\": \"DA\",\n",
    "    \"possession\": \"POSS\",\n",
    "    \"miscellaneous\": \"MISC\",\n",
    "}\n",
    "\n",
    "COLUMNS = {\n",
    "    \"shooting\": [\"Squad\", \"Sh\", \"Dist\"],\n",
    "    \"passing\": [\"Squad\", \"TotDist\", \"PrgDist\", \"Att\", \"KP\"],\n",
    "    \"pass_types\": [\"Squad\", \"Crs\", \"CK\"],\n",
    "    \"goal_and_shot_creation\": [\n",
    "        \"Squad\",\n",
    "        \"PassLive\",\n",
    "        \"PassDead\",\n",
    "        \"TO\",\n",
    "        \"Sh\",\n",
    "        \"Fld\",\n",
    "        \"Def\",\n",
    "    ],\n",
    "    \"defensive_actions\": [\"Squad\", \"Tkl\", \"Att\", \"Blocks\", \"Int\"],\n",
    "    \"possession\": [\"Squad\", \"Poss\"],\n",
    "    \"miscellaneous\": [\"Squad\", \"CrdY\", \"CrdR\", \"Fls\", \"Recov\"],\n",
    "}\n",
    "\n",
    "CATEGORIES = [\n",
    "    \"shooting\",\n",
    "    \"passing\",\n",
    "    \"passing_types\",\n",
    "    \"gca\",\n",
    "    \"defense\",\n",
    "    \"possession\",\n",
    "    \"misc\",\n",
    "]"
   ]
  },
  {
   "cell_type": "code",
   "execution_count": null,
   "id": "c177f6ef",
   "metadata": {},
   "outputs": [],
   "source": [
    "def scrape_and_process(url, columns, season):\n",
    "    response = requests.get(url)\n",
    "    soup = BeautifulSoup(response.content, \"html.parser\")\n",
    "    table = soup.find(\"table\")\n",
    "    table_data = pd.read_html(str(table))[0]\n",
    "    table_data.columns = table_data.columns.droplevel([0])\n",
    "    selected_data = table_data[columns]\n",
    "    selected_data.loc[:, \"SEASON\"] = season\n",
    "    # selected_data.set_index([\"Squad\", \"SEASON\"], inplace=True)\n",
    "    return selected_data"
   ]
  },
  {
   "cell_type": "code",
   "execution_count": null,
   "id": "df7d316b",
   "metadata": {},
   "outputs": [],
   "source": [
    "def tidy_columns(df, col):\n",
    "    df.reset_index(drop=True, inplace=True)\n",
    "    df.columns = df.columns.str.upper()\n",
    "    # df = df.transpose().drop_duplicates().transpose().reset_index(drop=True)\n",
    "    new_columns = [\n",
    "        (\n",
    "            f\"{RENAME_COLUMNS[col]}_{column}\"\n",
    "            if column not in [\"SQUAD\", \"SEASON\"]\n",
    "            else column\n",
    "        )\n",
    "        for column in df.columns\n",
    "    ]\n",
    "    df.rename(columns=dict(zip(df.columns, new_columns)), inplace=True)\n",
    "\n",
    "    return df"
   ]
  },
  {
   "cell_type": "code",
   "execution_count": null,
   "id": "18d62ec8",
   "metadata": {},
   "outputs": [],
   "source": [
    "# df = scrape_and_process(\"https://fbref.com/en/comps/230/2022-2023/shooting/2022-2023-Liga-F-Stats\", COLUMNS[\"shooting\"], \"2022-2023 Liga\")\n",
    "# tidy_columns(df, \"shooting\")"
   ]
  },
  {
   "cell_type": "markdown",
   "id": "11bdb504",
   "metadata": {},
   "source": []
  },
  {
   "cell_type": "code",
   "execution_count": null,
   "id": "30867878",
   "metadata": {},
   "outputs": [],
   "source": [
    "urls = [\n",
    "    [\n",
    "        f\"https://fbref.com/en/comps/230/2022-2023/{category}/2022-2023-Liga-F-Stats\"\n",
    "        for category in CATEGORIES\n",
    "    ],\n",
    "    [\n",
    "        f\"https://fbref.com/en/comps/182/2022/{category}/2022-NWSL-Stats\"\n",
    "        for category in CATEGORIES\n",
    "    ],\n",
    "    [\n",
    "        f\"https://fbref.com/en/comps/189/2022-2023/{category}/2022-2023-Womens-Super-League-Stats\"\n",
    "        for category in CATEGORIES\n",
    "    ],\n",
    "    [\n",
    "        f\"https://fbref.com/en/comps/189/2021-2022/{category}/2021-2022-Womens-Super-League-Stats\"\n",
    "        for category in CATEGORIES\n",
    "    ],\n",
    "]"
   ]
  },
  {
   "cell_type": "code",
   "execution_count": null,
   "id": "cc3add35",
   "metadata": {},
   "outputs": [],
   "source": [
    "url_dict = {}\n",
    "for season, url_list in zip(\n",
    "    [\"2022-2023 Liga\", \"2022 NWSL\", \"2022-2023 WSL\", \"2021-2022 WSL\"], urls\n",
    "):\n",
    "    url_dict[season] = url_list"
   ]
  },
  {
   "cell_type": "code",
   "execution_count": null,
   "id": "18efd6c5",
   "metadata": {},
   "outputs": [],
   "source": [
    "dataframes = []\n",
    "data = []\n",
    "for season, urls in url_dict.items():\n",
    "    print(\"===============================================================\")\n",
    "    for url, col in zip(urls, COLUMNS):\n",
    "        try:\n",
    "            print(f\"Scraping data for {season} - {col}\")\n",
    "            print(url, COLUMNS[col])\n",
    "            df = scrape_and_process(url, COLUMNS[col], season)\n",
    "            df = tidy_columns(df, col)\n",
    "            dataframes.append(df)\n",
    "        except Exception as e:\n",
    "            print(f\"Error scraping data for {season} - {col}\")\n",
    "            print(e)\n",
    "    data.append(pd.concat(dataframes, axis=1))\n",
    "    dataframes = []"
   ]
  },
  {
   "cell_type": "code",
   "execution_count": null,
   "id": "6269e55a",
   "metadata": {},
   "outputs": [],
   "source": [
    "df_merged = pd.concat(data)\n",
    "df_merged = df_merged.transpose().drop_duplicates().transpose().reset_index(drop=True)\n",
    "display(df_merged.head())"
   ]
  },
  {
   "cell_type": "code",
   "execution_count": null,
   "id": "4749eb1f",
   "metadata": {},
   "outputs": [],
   "source": [
    "df.to_csv(\"data/pro_leagues.csv\")"
   ]
  },
  {
   "cell_type": "code",
   "execution_count": null,
   "id": "dd63c23e",
   "metadata": {},
   "outputs": [],
   "source": [
    "display(df)"
   ]
  }
 ],
 "metadata": {
  "kernelspec": {
   "display_name": "Python 3 (ipykernel)",
   "language": "python",
   "name": "python3"
  },
  "language_info": {
   "codemirror_mode": {
    "name": "ipython",
    "version": 3
   },
   "file_extension": ".py",
   "mimetype": "text/x-python",
   "name": "python",
   "nbconvert_exporter": "python",
   "pygments_lexer": "ipython3",
   "version": "3.12.0"
  }
 },
 "nbformat": 4,
 "nbformat_minor": 5
}
